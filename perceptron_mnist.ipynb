{
 "cells": [
  {
   "cell_type": "markdown",
   "id": "2aaa6768",
   "metadata": {},
   "source": [
    "# Perceptron Model in Python\n",
    "\n",
    "In this notebook, we'll implement a single-layer perceptron with a sigmoid activation function. We'll train it on sample data from an unknown logical circuit, observe weight adjustments, and then make predictions on user-provided inputs."
   ]
  },
  {
   "cell_type": "code",
   "id": "db60b12b",
   "metadata": {
    "ExecuteTime": {
     "end_time": "2025-06-29T21:27:23.712272Z",
     "start_time": "2025-06-29T21:27:20.284747Z"
    }
   },
   "source": [
    "import numpy as np\n",
    "\n",
    "class Perceptron:\n",
    "    def __init__(self):\n",
    "        # Initialize weights randomly with mean 0\n",
    "        self.synaptic_weights = 2 * np.random.random((3, 1)) - 1\n",
    "\n",
    "    def sigmoid(self, x):\n",
    "        \"\"\"Sigmoid activation function\"\"\"\n",
    "        return 1 / (1 + np.exp(-x))\n",
    "\n",
    "    def sigmoid_derivative(self, x):\n",
    "        \"\"\"Derivative of the sigmoid function. Input x is assumed to be sigmoid(x)\"\"\"\n",
    "        return x * (1 - x)\n",
    "\n",
    "    def think(self, inputs):\n",
    "        \"\"\"Calculate the output of the perceptron for given inputs.\"\"\"\n",
    "        inputs = inputs.astype(float)\n",
    "        output = self.sigmoid(np.dot(inputs, self.synaptic_weights))\n",
    "        return output\n",
    "\n",
    "    def train(self, inputs, targets, iterations):\n",
    "        \"\"\"Train the perceptron via backpropagation over a number of iterations.\"\"\"\n",
    "        for iteration in range(iterations):\n",
    "            # Feed forward\n",
    "            output = self.think(inputs)\n",
    "            # Calculate error\n",
    "            error = targets - output\n",
    "            # Multiply error by derivative of sigmoid to get adjustments\n",
    "            adjustments = np.dot(inputs.T, error * self.sigmoid_derivative(output))\n",
    "            # Update weights\n",
    "            self.synaptic_weights += adjustments\n",
    "\n",
    "# Only run this when the script/notebook is executed directly\n",
    "if __name__ == \"__main__\":\n",
    "    # Training data: inputs and corresponding outputs\n",
    "    training_inputs = np.array([\n",
    "        [0, 0, 1],\n",
    "        [1, 1, 1],\n",
    "        [1, 0, 0],\n",
    "        [0, 1, 1]\n",
    "    ])\n",
    "    training_outputs = np.array([[0, 1, 1, 0]]).T\n",
    "\n",
    "    # Create a perceptron instance\n",
    "    p = Perceptron()\n",
    "\n",
    "    # Print initial random weights\n",
    "    print(\"Random starting synaptic weights:\")\n",
    "    print(p.synaptic_weights)\n",
    "\n",
    "    # Train the perceptron\n",
    "    p.train(training_inputs, training_outputs, iterations=10000)\n",
    "\n",
    "    # Print updated weights after training\n",
    "    print(\"\\nSynaptic weights after training:\")\n",
    "    print(p.synaptic_weights)\n",
    "\n",
    "    # Prompt user for new input to make a prediction\n",
    "    user_input = np.array(\n",
    "        list(map(int, input(\"\\nEnter 3 binary values for prediction (separated by spaces): \").split()))\n",
    "    ).reshape(1, 3)\n",
    "\n",
    "    # Predict and display the output\n",
    "    output = p.think(user_input)\n",
    "    print(\"\\nPrediction for input {}: {}\".format(user_input, output))\n"
   ],
   "outputs": [
    {
     "name": "stdout",
     "output_type": "stream",
     "text": [
      "Random starting synaptic weights:\n",
      "[[ 0.25074875]\n",
      " [-0.25372649]\n",
      " [-0.29030334]]\n",
      "\n",
      "Synaptic weights after training:\n",
      "[[ 9.15601519]\n",
      " [ 0.34135157]\n",
      " [-4.92041   ]]\n",
      "\n",
      "Prediction for input [[0 1 1]]: [[0.01016027]]\n"
     ]
    }
   ],
   "execution_count": 7
  },
  {
   "cell_type": "markdown",
   "id": "976b3d51",
   "metadata": {},
   "source": [
    "# Feed-Forward Neural Network for MNIST Digit Recognition\n",
    "\n",
    "A single hidden-layer network trained on a reduced MNIST dataset."
   ]
  },
  {
   "cell_type": "code",
   "id": "027eb198",
   "metadata": {
    "ExecuteTime": {
     "end_time": "2025-06-29T21:28:48.452771Z",
     "start_time": "2025-06-29T21:28:48.442384Z"
    }
   },
   "source": [
    "import numpy as np\n",
    "import random\n",
    "import matplotlib.pyplot as plt\n",
    "%matplotlib inline\n",
    "\n",
    "class NeuralNetwork:\n",
    "    def __init__(self, input_nodes, hidden_nodes, output_nodes, learning_rate):\n",
    "        self.inodes = input_nodes\n",
    "        self.hnodes = hidden_nodes\n",
    "        self.onodes = output_nodes\n",
    "        self.lr = learning_rate\n",
    "\n",
    "        # Weight matrices initialization\n",
    "        self.W_ih = np.random.normal(0.0, 1/np.sqrt(self.inodes), (self.hnodes, self.inodes))\n",
    "        self.W_ho = np.random.normal(0.0, 1/np.sqrt(self.hnodes), (self.onodes, self.hnodes))\n",
    "\n",
    "    def sigmoid(self, x):\n",
    "        return 1.0 / (1.0 + np.exp(-x))\n",
    "\n",
    "    def sigmoid_derivative(self, y):\n",
    "        return y * (1.0 - y)\n",
    "\n",
    "    def train(self, inputs_list, targets_list):\n",
    "        inputs = np.array(inputs_list, dtype=float).reshape(self.inodes, 1)\n",
    "        targets = np.array(targets_list, dtype=float).reshape(self.onodes, 1)\n",
    "\n",
    "        # Forward pass\n",
    "        hidden_inputs = self.W_ih @ inputs\n",
    "        hidden_outputs = self.sigmoid(hidden_inputs)\n",
    "\n",
    "        final_inputs = self.W_ho @ hidden_outputs\n",
    "        final_outputs = self.sigmoid(final_inputs)\n",
    "\n",
    "        # Error calculation\n",
    "        output_errors = targets - final_outputs\n",
    "        hidden_errors = self.W_ho.T @ output_errors\n",
    "\n",
    "        # Backpropagation\n",
    "        self.W_ho += self.lr * (output_errors * self.sigmoid_derivative(final_outputs)) @ hidden_outputs.T\n",
    "        self.W_ih += self.lr * (hidden_errors * self.sigmoid_derivative(hidden_outputs)) @ inputs.T\n",
    "\n",
    "    def think(self, inputs_list):\n",
    "        inputs = np.array(inputs_list, dtype=float).reshape(self.inodes, 1)\n",
    "        hidden_outputs = self.sigmoid(self.W_ih @ inputs)\n",
    "        final_outputs = self.sigmoid(self.W_ho @ hidden_outputs)\n",
    "        return final_outputs\n"
   ],
   "outputs": [],
   "execution_count": 8
  },
  {
   "cell_type": "markdown",
   "id": "b8b8feef",
   "metadata": {},
   "source": [
    "## 1. Load and preprocess the data"
   ]
  },
  {
   "cell_type": "code",
   "id": "de3ff1a9",
   "metadata": {
    "ExecuteTime": {
     "end_time": "2025-06-29T21:28:57.157861Z",
     "start_time": "2025-06-29T21:28:57.137097Z"
    }
   },
   "source": [
    "# Load training data\n",
    "with open('mnist_train_100.csv', 'r') as f:\n",
    "# with open('mnist_train_full.csv', 'r') as f:\n",
    "    training_data = f.readlines()\n",
    "\n",
    "def normalize_input(values):\n",
    "    arr = np.asarray(values, dtype=float)\n",
    "    return arr / 255.0 * 0.98 + 0.01\n",
    "\n",
    "train_inputs = []\n",
    "train_targets = []\n",
    "\n",
    "for line in training_data:\n",
    "    parts = line.strip().split(',')\n",
    "    label = int(parts[0])\n",
    "    pixels = normalize_input(parts[1:])\n",
    "    target = np.zeros(10) + 0.01\n",
    "    target[label] = 0.99\n",
    "\n",
    "    train_inputs.append(pixels)\n",
    "    train_targets.append(target)\n"
   ],
   "outputs": [],
   "execution_count": 9
  },
  {
   "cell_type": "markdown",
   "id": "c61d453f",
   "metadata": {},
   "source": [
    "## 2. Initialize the network and train"
   ]
  },
  {
   "cell_type": "code",
   "id": "19991ea2",
   "metadata": {
    "ExecuteTime": {
     "end_time": "2025-06-29T21:29:01.122457Z",
     "start_time": "2025-06-29T21:29:00.390862Z"
    }
   },
   "source": [
    "# Hyperparameters\n",
    "input_nodes = 784\n",
    "hidden_nodes = 200\n",
    "output_nodes = 10\n",
    "learning_rate = 0.1\n",
    "epochs = 5\n",
    "\n",
    "# Initialize network\n",
    "nn = NeuralNetwork(input_nodes, hidden_nodes, output_nodes, learning_rate)\n",
    "\n",
    "# Training\n",
    "for e in range(epochs):\n",
    "    for inputs, targets in zip(train_inputs, train_targets):\n",
    "        nn.train(inputs, targets)\n",
    "    print(f'Epoch {e+1}/{epochs} complete')"
   ],
   "outputs": [
    {
     "name": "stdout",
     "output_type": "stream",
     "text": [
      "Epoch 1/5 complete\n",
      "Epoch 2/5 complete\n",
      "Epoch 3/5 complete\n",
      "Epoch 4/5 complete\n",
      "Epoch 5/5 complete\n"
     ]
    }
   ],
   "execution_count": 10
  },
  {
   "cell_type": "markdown",
   "id": "e4c4dc06",
   "metadata": {},
   "source": [
    "## 3. Test the network"
   ]
  },
  {
   "cell_type": "code",
   "id": "6db6ec95",
   "metadata": {
    "ExecuteTime": {
     "end_time": "2025-06-29T21:29:17.783633Z",
     "start_time": "2025-06-29T21:29:17.763582Z"
    }
   },
   "source": [
    "    # Load test data\n",
    "with open('mnist_test_10.csv', 'r') as f:\n",
    "# with open('mnist_test_full.csv', 'r') as f:\n",
    "    test_data = f.readlines()\n",
    "\n",
    "# Evaluate performance\n",
    "scores = []\n",
    "for line in test_data:\n",
    "    parts = line.strip().split(',')\n",
    "    correct_label = int(parts[0])\n",
    "    inputs = normalize_input(parts[1:])\n",
    "    outputs = nn.think(inputs)\n",
    "    predicted_label = np.argmax(outputs)\n",
    "    scores.append(int(predicted_label == correct_label))\n",
    "\n",
    "print(f'Performance: {np.mean(scores)*100:.2f}%')"
   ],
   "outputs": [
    {
     "name": "stdout",
     "output_type": "stream",
     "text": [
      "Performance: 60.00%\n"
     ]
    }
   ],
   "execution_count": 12
  },
  {
   "cell_type": "markdown",
   "id": "6658ce8f",
   "metadata": {},
   "source": [
    "## 4. Visualize a sample digit"
   ]
  },
  {
   "cell_type": "code",
   "id": "98c25cbf",
   "metadata": {
    "ExecuteTime": {
     "end_time": "2025-06-29T21:29:38.800472Z",
     "start_time": "2025-06-29T21:29:38.594507Z"
    }
   },
   "source": [
    "# Display the first test digit\n",
    "my_var = random.randint(0, 9)\n",
    "parts = test_data[my_var].strip().split(',')\n",
    "label = int(parts[0])\n",
    "pixels = np.asarray(parts[1:], dtype=float).reshape((28,28))\n",
    "plt.imshow(pixels, cmap='Greys', interpolation='None')\n",
    "plt.title(f'Label: {label}')\n",
    "plt.show()"
   ],
   "outputs": [
    {
     "data": {
      "text/plain": [
       "<Figure size 640x480 with 1 Axes>"
      ],
      "image/png": "[encoded data removed]"
     },
     "metadata": {},
     "output_type": "display_data"
    }
   ],
   "execution_count": 20
  }
 ],
 "metadata": {
  "kernelspec": {
   "name": "python3",
   "language": "python",
   "display_name": "Python 3 (ipykernel)"
  }
 },
 "nbformat": 4,
 "nbformat_minor": 5
}
